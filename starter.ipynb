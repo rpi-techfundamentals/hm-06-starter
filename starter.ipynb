{
  "cells": [
    {
      "metadata": {},
      "cell_type": "markdown",
      "source": "## Homework 06 - Instructions\n\n\n### This is a 30 point assignment graded from answers to questions and automated tests that should be run at the bottom. Be sure to clearly label all of your answers and commit final tests at the end.  \n\n"
    },
    {
      "metadata": {},
      "cell_type": "markdown",
      "source": "### For the exercise below you should import the Iris Dataset as a dataframe called iris.df.\n\n(1). Create a variable called sepal_width.mean that contains the mean of the sepal_width column of iris.df.\n"
    },
    {
      "metadata": {
        "trusted": true
      },
      "cell_type": "code",
      "source": "",
      "execution_count": null,
      "outputs": []
    },
    {
      "metadata": {},
      "cell_type": "markdown",
      "source": "(2). Create a new column of iris.df called `sepalArea` that is equal to the sepal_width times sepal_length.\n"
    },
    {
      "metadata": {
        "trusted": true
      },
      "cell_type": "code",
      "source": "",
      "execution_count": null,
      "outputs": []
    },
    {
      "metadata": {},
      "cell_type": "markdown",
      "source": "(3). Create a new dataframe `iristrain.df` that includes the first 75 rows of the iris dataframe.\n"
    },
    {
      "metadata": {
        "trusted": true
      },
      "cell_type": "code",
      "source": "",
      "execution_count": null,
      "outputs": []
    },
    {
      "metadata": {},
      "cell_type": "markdown",
      "source": "(4). Create a new dataframe iristest.df that includes the last 75 rows of the iris dataframe.\n"
    },
    {
      "metadata": {
        "trusted": true
      },
      "cell_type": "code",
      "source": "",
      "execution_count": null,
      "outputs": []
    },
    {
      "metadata": {},
      "cell_type": "markdown",
      "source": "(5). Create a new vector `sepal_length` from the `sepal_length` column of the iris dataframe.\n"
    },
    {
      "metadata": {
        "trusted": true
      },
      "cell_type": "code",
      "source": "",
      "execution_count": null,
      "outputs": []
    },
    {
      "metadata": {},
      "cell_type": "markdown",
      "source": "(6). While we can submit our answer to Kaggle to see how it will perform, we can also utilize our test data to assess accuracy. Accuracy is the percentage of predictions made correctly-i.e., the percentage of people in which our prediction regarding their survival. a. Create columns in the training dataset PredEveryoneDies and PredGender with the same predictions from above. b. Create variables AccEveryoneDies and AccGender using a calculation of accuracy of predictions for the training dataset.\n"
    },
    {
      "metadata": {
        "trusted": true
      },
      "cell_type": "code",
      "source": "",
      "execution_count": null,
      "outputs": []
    },
    {
      "metadata": {},
      "cell_type": "markdown",
      "source": "(7). Notice how we are utilizing the code to select out the passengerID and the Survived column and generating a submission file over and over? This is in need of a function. Create a generate_submission function that accepts a DataFrame, a target column, and a filename and writes out the submission file with just the passengerID and the Survived columns, where the survived column is equal to the target column. It should then return a DataFrame with the passengerID and the Survived columns.\n\nExecuteing the following should return a dataframe with just passengerID and the Survived column:\n```\nsubmitdie <- generate_submission(train, \"PredEveryoneDies\", \"submiteveryonedies.csv\")\n```\n"
    },
    {
      "metadata": {
        "trusted": true
      },
      "cell_type": "code",
      "source": "\n",
      "execution_count": null,
      "outputs": []
    },
    {
      "metadata": {},
      "cell_type": "markdown",
      "source": "(8). In according to the women and children first protocol we hypothesize that our model could be improved by including whether the individual was a child in addition to gender. After coding survival based on gender, update your recommendation to prediction in the training dataset survival based on age. `train['PredGenderAge13']` should be the prediction incorporating both Gender and whether `Age` < 13. train['PredGenderAge18'] should be the prediction incorporating both Gender and whether `Age` < 18. `AccGenderAge13` should be the accuracy of the age prediction, based on `train['PredGenderAge13']`.  `AccGenderAge18` should be the accuracy of the age prediction, based on `train['PredGenderAge18']`.\n"
    },
    {
      "metadata": {
        "trusted": true
      },
      "cell_type": "code",
      "source": "",
      "execution_count": null,
      "outputs": []
    },
    {
      "metadata": {},
      "cell_type": "markdown",
      "source": "(9). You should find that the AccGenderAge13 is better than AccGenderAge18. Create a new column child in the test and train DataFrames that is 1 if Age < 13 and 0 otherwise. This is a feature.\n"
    },
    {
      "metadata": {
        "trusted": true
      },
      "cell_type": "code",
      "source": "",
      "execution_count": null,
      "outputs": []
    },
    {
      "metadata": {},
      "cell_type": "markdown",
      "source": "### Run Tests\nThis is a bit different but it will run each of the associated tests for this assignment. "
    },
    {
      "metadata": {
        "trusted": true
      },
      "cell_type": "code",
      "source": "install.packages('testthat', lib='/home/nbuser/R')",
      "execution_count": null,
      "outputs": []
    },
    {
      "metadata": {
        "trusted": true
      },
      "cell_type": "code",
      "source": "\nsink(\"test.md\")\nlibrary('testthat')\ntest_file(\"test.intro-r-exercises.R\", reporter = \"tap\")\nsink()",
      "execution_count": null,
      "outputs": []
    },
    {
      "metadata": {
        "trusted": true
      },
      "cell_type": "code",
      "source": "",
      "execution_count": null,
      "outputs": []
    }
  ],
  "metadata": {
    "kernelspec": {
      "name": "r",
      "display_name": "R",
      "language": "R"
    },
    "language_info": {
      "mimetype": "text/x-r-source",
      "name": "R",
      "pygments_lexer": "r",
      "version": "3.5.3",
      "file_extension": ".r",
      "codemirror_mode": "r"
    },
    "nteract": {
      "version": "0.12.3"
    }
  },
  "nbformat": 4,
  "nbformat_minor": 4
}